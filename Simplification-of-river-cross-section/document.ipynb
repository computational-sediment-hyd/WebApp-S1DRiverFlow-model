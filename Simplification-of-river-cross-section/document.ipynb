{
 "cells": [
  {
   "cell_type": "markdown",
   "metadata": {},
   "source": [
    "## 河川横断面の簡略化について"
   ]
  },
  {
   "cell_type": "markdown",
   "metadata": {},
   "source": [
    "### モチベーション\n",
    "\n",
    " - 横断面平均一次元河川流計算で実河川を対象とする場合、地形条件は河川横断測量データを使用することが一般的である。\n",
    " - このデータより、水位に対する河積、川幅、潤辺等を計算するが計算負荷が大きく、特に長期計算を行う場合には計算速度に大きく影響する。\n",
    " - この改善方法として、河川横断測量データの簡略化とその影響について検証する。"
   ]
  },
  {
   "cell_type": "markdown",
   "metadata": {},
   "source": [
    "### 簡素化"
   ]
  },
  {
   "cell_type": "markdown",
   "metadata": {},
   "source": [
    " - 基本の横断図は過去記事のものを使用する。\n",
    " - 横断面の簡略化には、pythonのモジュール[shapely](https://shapely.readthedocs.io/en/latest/manual.html)の[simplifyメソッド](https://shapely.readthedocs.io/en/latest/manual.html#object.simplify)を使います。"
   ]
  },
  {
   "cell_type": "code",
   "execution_count": 139,
   "metadata": {},
   "outputs": [],
   "source": [
    "import numpy as np\n",
    "from shapely.geometry import LineString, MultiPoint\n",
    "import json"
   ]
  },
  {
   "cell_type": "code",
   "execution_count": 140,
   "metadata": {},
   "outputs": [],
   "source": [
    "from IPython.display import IFrame"
   ]
  },
  {
   "cell_type": "code",
   "execution_count": 141,
   "metadata": {},
   "outputs": [],
   "source": [
    "with open('sample-RiverSection.geojson','r') as f:\n",
    "    j = json.load(f)"
   ]
  },
  {
   "cell_type": "code",
   "execution_count": 142,
   "metadata": {},
   "outputs": [],
   "source": [
    "p3d = j['features'][0]['geometry']['coordinates']"
   ]
  },
  {
   "cell_type": "code",
   "execution_count": 143,
   "metadata": {},
   "outputs": [],
   "source": [
    "def from3Dto2D(pointz, porg=None):\n",
    "    point = pointz[:,:2]\n",
    "    if porg is None : porg = pointz[0]\n",
    "        \n",
    "    v = point[-1] - point[0]\n",
    "    e = v/np.linalg.norm(v)\n",
    "    d = point - porg[:2]\n",
    "    L = np.dot(d, e)\n",
    "    Z = pointz[:,2]\n",
    "    return L, Z"
   ]
  },
  {
   "cell_type": "code",
   "execution_count": 144,
   "metadata": {},
   "outputs": [],
   "source": [
    "L, Z = from3Dto2D(np.array(p3d))"
   ]
  },
  {
   "cell_type": "code",
   "execution_count": 145,
   "metadata": {},
   "outputs": [],
   "source": [
    "L = L[5:-6]\n",
    "Z = Z[5:-6]"
   ]
  },
  {
   "cell_type": "code",
   "execution_count": 146,
   "metadata": {},
   "outputs": [
    {
     "name": "stdout",
     "output_type": "stream",
     "text": [
      "80\n",
      "24\n",
      "19\n",
      "12\n",
      "7\n"
     ]
    }
   ],
   "source": [
    "line = LineString(np.c_[L,Z])\n",
    "g = hv.Curve(line.coords[:], label='original').options(width=600, color='k', line_width=4)\n",
    "print( len(line.coords[:]) )\n",
    "fig = [g]\n",
    "\n",
    "for tol in [0.2, 0.5, 1.0, 2.0]:\n",
    "    line2 = line.simplify(tol, preserve_topology=True)\n",
    "    g = hv.Curve(line2.coords[:], label='tolerance=' + str(tol))\n",
    "    print( len(line2.coords[:]) )\n",
    "    fig.append(g)"
   ]
  },
  {
   "cell_type": "markdown",
   "metadata": {},
   "source": [
    "|  |  number of points  |\n",
    "| ---- | ---- |\n",
    "|  original  |  80  |\n",
    "|  tolerance = 0.2  |  24  |\n",
    "|  tolerance = 0.5  |  19  |\n",
    "|  tolerance = 1.0  |  12  |\n",
    "|  tolerance = 2.0  |  7  |"
   ]
  },
  {
   "cell_type": "code",
   "execution_count": 147,
   "metadata": {},
   "outputs": [],
   "source": [
    "g = hv.Overlay(fig).options(legend_position='top')\n",
    "hv.save(g, 'test.html')"
   ]
  },
  {
   "cell_type": "code",
   "execution_count": 148,
   "metadata": {},
   "outputs": [
    {
     "data": {
      "text/html": [
       "\n",
       "        <iframe\n",
       "            width=\"700\"\n",
       "            height=\"300\"\n",
       "            src=\"test.html\"\n",
       "            frameborder=\"0\"\n",
       "            allowfullscreen\n",
       "        ></iframe>\n",
       "        "
      ],
      "text/plain": [
       "<IPython.lib.display.IFrame at 0x2647749c5c0>"
      ]
     },
     "execution_count": 148,
     "metadata": {},
     "output_type": "execute_result"
    }
   ],
   "source": [
    "IFrame(\"test.html\",width=700,height=300)"
   ]
  },
  {
   "cell_type": "markdown",
   "metadata": {},
   "source": [
    "### 物理量への影響\n",
    " - 河川流の場合は、水位$H$と流量$Q$の関係が重要となるのでこれらへの影響を確認する。\n",
    " - 等流を仮定して以下のマニングの式によりそれらを評価する。"
   ]
  },
  {
   "cell_type": "markdown",
   "metadata": {},
   "source": [
    "$$\n",
    "Q = \\frac{1}{n}i_e^{1/2}R^{2/3}A\n",
    "$$"
   ]
  },
  {
   "cell_type": "markdown",
   "metadata": {},
   "source": [
    " - 右辺の径深$R$、河積$A$は水位$H$の関数になるので、$H \\sim R^{2/3}A$を比較する。\n",
    " - Hが17～24の範囲で図化すると次のとおりとなる。"
   ]
  },
  {
   "cell_type": "code",
   "execution_count": 111,
   "metadata": {},
   "outputs": [],
   "source": [
    "import riversection as sect\n",
    "from numba.typed import List"
   ]
  },
  {
   "cell_type": "code",
   "execution_count": 149,
   "metadata": {},
   "outputs": [],
   "source": [
    "line = LineString(np.c_[L,Z])\n",
    "p = np.array( line.coords[:] )\n",
    "s = sect.section(np.array([p]),np.array([np.repeat(0.1, len(p) - 1)]))\n",
    "\n",
    "hh = np.arange(17,24.01,0.2)\n",
    "RA = []\n",
    "for hhh in hh:\n",
    "    A, B, S = s.H2ABS(hhh)\n",
    "    RA.append( A**(5/3)/S**(2/3) )\n",
    "\n",
    "g = hv.Curve((RA, hh), label='original').options(width=600, color='k', line_width=4, xlabel='R^(2/3)A', ylabel='H')\n",
    "fig = [g]"
   ]
  },
  {
   "cell_type": "code",
   "execution_count": 150,
   "metadata": {},
   "outputs": [],
   "source": [
    "for tol in [0.2, 0.5, 1.0, 2.0]:\n",
    "    line2 = line.simplify(tol, preserve_topology=True)\n",
    "    \n",
    "    p = np.array( line2.coords[:] )\n",
    "    s = sect.section(np.array([p]),np.array([np.repeat(0.1, len(p) - 1)]))\n",
    "    \n",
    "    hh = np.arange(17,24.01,0.2)\n",
    "    RA = []\n",
    "    for hhh in hh:\n",
    "        A, B, S = s.H2ABS(hhh)\n",
    "        RA.append( A**(5/3)/S**(2/3) )\n",
    "    \n",
    "    g = hv.Curve((RA, hh), label='tolerance=' + str(tol))\n",
    "    fig.append(g)"
   ]
  },
  {
   "cell_type": "code",
   "execution_count": 155,
   "metadata": {},
   "outputs": [],
   "source": [
    "g = hv.Overlay(fig).options(legend_position='top')\n",
    "hv.save(g, 'RA.html')"
   ]
  },
  {
   "cell_type": "code",
   "execution_count": 156,
   "metadata": {},
   "outputs": [
    {
     "data": {
      "text/html": [
       "\n",
       "        <iframe\n",
       "            width=\"700\"\n",
       "            height=\"300\"\n",
       "            src=\"RA.html\"\n",
       "            frameborder=\"0\"\n",
       "            allowfullscreen\n",
       "        ></iframe>\n",
       "        "
      ],
      "text/plain": [
       "<IPython.lib.display.IFrame at 0x26477533048>"
      ]
     },
     "execution_count": 156,
     "metadata": {},
     "output_type": "execute_result"
    }
   ],
   "source": [
    "IFrame(\"RA.html\",width=700,height=300)"
   ]
  },
  {
   "cell_type": "markdown",
   "metadata": {},
   "source": [
    "### 計算時間への影響"
   ]
  },
  {
   "cell_type": "markdown",
   "metadata": {},
   "source": [
    " - 上の$H \\sim R^{2/3}A$関係の計算速度を比較しました。\n",
    " - 時間計測はjupyterの%%timeitを使ってます。\n",
    " - PCのスペック\n",
    " - 計算時間は次のとおりで測点数の減少に比例して高速化する。"
   ]
  },
  {
   "cell_type": "markdown",
   "metadata": {},
   "source": [
    "|  |  computational time |\n",
    "| ---- | ---- |\n",
    "|  original  |  686 µs ± 11.5 µs  |\n",
    "|  tolerance = 0.2  |  288 µs ± 5.87  |\n",
    "|  tolerance = 0.5  |  265 µs ± 12.1 µs  |\n",
    "|  tolerance = 1.0  |  207 µs ± 7.21 µs  |\n",
    "|  tolerance = 2.0  |  174 µs ± 2.27 µs  |"
   ]
  },
  {
   "cell_type": "code",
   "execution_count": 158,
   "metadata": {},
   "outputs": [],
   "source": [
    "line = LineString(np.c_[L,Z])"
   ]
  },
  {
   "cell_type": "code",
   "execution_count": 159,
   "metadata": {},
   "outputs": [
    {
     "name": "stdout",
     "output_type": "stream",
     "text": [
      "686 µs ± 11.5 µs per loop (mean ± std. dev. of 7 runs, 1000 loops each)\n"
     ]
    }
   ],
   "source": [
    "%%timeit\n",
    "p = np.array( line.coords[:] )\n",
    "s = sect.section(np.array([p]),np.array([np.repeat(0.1, len(p) - 1)]))\n",
    "\n",
    "hh = np.arange(17,24.01,0.2)\n",
    "RA = []\n",
    "for hhh in hh:\n",
    "    A, B, S = s.H2ABS(hhh)\n",
    "    RA.append( A**(5/3)/S**(2/3) )"
   ]
  },
  {
   "cell_type": "code",
   "execution_count": 160,
   "metadata": {},
   "outputs": [],
   "source": [
    "tol = 0.2\n",
    "line2 = line.simplify(tol, preserve_topology=True)"
   ]
  },
  {
   "cell_type": "code",
   "execution_count": 162,
   "metadata": {},
   "outputs": [
    {
     "name": "stdout",
     "output_type": "stream",
     "text": [
      "288 µs ± 5.87 µs per loop (mean ± std. dev. of 7 runs, 1000 loops each)\n"
     ]
    }
   ],
   "source": [
    "%%timeit\n",
    "p = np.array( line2.coords[:] )\n",
    "s = sect.section(np.array([p]),np.array([np.repeat(0.1, len(p) - 1)]))\n",
    "\n",
    "hh = np.arange(17,24.01,0.2)\n",
    "RA = []\n",
    "for hhh in hh:\n",
    "    A, B, S = s.H2ABS(hhh)\n",
    "    RA.append( A**(5/3)/S**(2/3) )"
   ]
  },
  {
   "cell_type": "code",
   "execution_count": 163,
   "metadata": {},
   "outputs": [],
   "source": [
    "tol = 0.5\n",
    "line2 = line.simplify(tol, preserve_topology=True)"
   ]
  },
  {
   "cell_type": "code",
   "execution_count": 164,
   "metadata": {},
   "outputs": [
    {
     "name": "stdout",
     "output_type": "stream",
     "text": [
      "265 µs ± 12.1 µs per loop (mean ± std. dev. of 7 runs, 1000 loops each)\n"
     ]
    }
   ],
   "source": [
    "%%timeit\n",
    "p = np.array( line2.coords[:] )\n",
    "s = sect.section(np.array([p]),np.array([np.repeat(0.1, len(p) - 1)]))\n",
    "\n",
    "hh = np.arange(17,24.01,0.2)\n",
    "RA = []\n",
    "for hhh in hh:\n",
    "    A, B, S = s.H2ABS(hhh)\n",
    "    RA.append( A**(5/3)/S**(2/3) )"
   ]
  },
  {
   "cell_type": "code",
   "execution_count": 165,
   "metadata": {},
   "outputs": [],
   "source": [
    "tol = 1.0\n",
    "line2 = line.simplify(tol, preserve_topology=True)"
   ]
  },
  {
   "cell_type": "code",
   "execution_count": 166,
   "metadata": {},
   "outputs": [
    {
     "name": "stdout",
     "output_type": "stream",
     "text": [
      "207 µs ± 7.21 µs per loop (mean ± std. dev. of 7 runs, 1000 loops each)\n"
     ]
    }
   ],
   "source": [
    "%%timeit\n",
    "p = np.array( line2.coords[:] )\n",
    "s = sect.section(np.array([p]),np.array([np.repeat(0.1, len(p) - 1)]))\n",
    "\n",
    "hh = np.arange(17,24.01,0.2)\n",
    "RA = []\n",
    "for hhh in hh:\n",
    "    A, B, S = s.H2ABS(hhh)\n",
    "    RA.append( A**(5/3)/S**(2/3) )"
   ]
  },
  {
   "cell_type": "code",
   "execution_count": 167,
   "metadata": {},
   "outputs": [],
   "source": [
    "tol = 2.0\n",
    "line2 = line.simplify(tol, preserve_topology=True)"
   ]
  },
  {
   "cell_type": "code",
   "execution_count": 168,
   "metadata": {},
   "outputs": [
    {
     "name": "stdout",
     "output_type": "stream",
     "text": [
      "174 µs ± 2.27 µs per loop (mean ± std. dev. of 7 runs, 10000 loops each)\n"
     ]
    }
   ],
   "source": [
    "%%timeit\n",
    "p = np.array( line2.coords[:] )\n",
    "s = sect.section(np.array([p]),np.array([np.repeat(0.1, len(p) - 1)]))\n",
    "\n",
    "hh = np.arange(17,24.01,0.2)\n",
    "RA = []\n",
    "for hhh in hh:\n",
    "    A, B, S = s.H2ABS(hhh)\n",
    "    RA.append( A**(5/3)/S**(2/3) )"
   ]
  }
 ],
 "metadata": {
  "kernelspec": {
   "display_name": "Python 3",
   "language": "python",
   "name": "python3"
  },
  "language_info": {
   "codemirror_mode": {
    "name": "ipython",
    "version": 3
   },
   "file_extension": ".py",
   "mimetype": "text/x-python",
   "name": "python",
   "nbconvert_exporter": "python",
   "pygments_lexer": "ipython3",
   "version": "3.6.10"
  },
  "toc": {
   "base_numbering": 1,
   "nav_menu": {},
   "number_sections": true,
   "sideBar": true,
   "skip_h1_title": false,
   "title_cell": "Table of Contents",
   "title_sidebar": "Contents",
   "toc_cell": false,
   "toc_position": {},
   "toc_section_display": true,
   "toc_window_display": true
  }
 },
 "nbformat": 4,
 "nbformat_minor": 4
}
