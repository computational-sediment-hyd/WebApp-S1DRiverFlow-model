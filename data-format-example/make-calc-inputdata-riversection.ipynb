{
 "cells": [
  {
   "cell_type": "markdown",
   "metadata": {},
   "source": [
    "# make calc-inputdata"
   ]
  },
  {
   "cell_type": "markdown",
   "metadata": {},
   "source": [
    "## import module"
   ]
  },
  {
   "cell_type": "code",
   "execution_count": 1,
   "metadata": {},
   "outputs": [],
   "source": [
    "import numpy as np\n",
    "import geopandas as gpd\n",
    "import json"
   ]
  },
  {
   "cell_type": "markdown",
   "metadata": {},
   "source": [
    "## load module"
   ]
  },
  {
   "cell_type": "code",
   "execution_count": 2,
   "metadata": {},
   "outputs": [],
   "source": [
    "gdf = gpd.read_file(\"sample-RiverSection.geojson\")"
   ]
  },
  {
   "cell_type": "markdown",
   "metadata": {},
   "source": [
    "## set subsection json data"
   ]
  },
  {
   "cell_type": "code",
   "execution_count": 3,
   "metadata": {},
   "outputs": [],
   "source": [
    "pointz = np.array( [ o.coords[:][0] for o in gdf['geometry'][0] ] )\n",
    "point = pointz[:,:2]\n",
    "d = point - point[0]\n",
    "L = np.sqrt(d[:,0]**2 + d[:,1]**2)\n",
    "Z = pointz[:,2]"
   ]
  },
  {
   "cell_type": "code",
   "execution_count": 4,
   "metadata": {},
   "outputs": [],
   "source": [
    "Ln, Zn = L[3:19], Z[3:19]\n",
    "d = point[-1] - point[0]\n",
    "e = d/np.linalg.norm(d)\n",
    "pointnew = np.array( [ e*x + point[0] for x in Ln ] )\n",
    "znew = Zn\n",
    "pointznew = np.c_[pointnew,znew]"
   ]
  },
  {
   "cell_type": "code",
   "execution_count": 5,
   "metadata": {},
   "outputs": [],
   "source": [
    "Ln2, Zn2 = L[18:-4], Z[18:-4]\n",
    "d = point[-1] - point[0]\n",
    "e = d/np.linalg.norm(d)\n",
    "pointnew2 = np.array( [ e*x + point[0] for x in Ln2 ] )\n",
    "znew2 = Zn2\n",
    "pointznew2 = np.c_[pointnew2,znew2]"
   ]
  },
  {
   "cell_type": "code",
   "execution_count": 6,
   "metadata": {},
   "outputs": [
    {
     "data": {
      "text/plain": [
       "array([0.04 , 0.04 , 0.04 , 0.04 , 0.04 , 0.035, 0.04 , 0.04 ])"
      ]
     },
     "execution_count": 6,
     "metadata": {},
     "output_type": "execute_result"
    }
   ],
   "source": [
    "manning = np.full(len(pointznew2)-1, 0.040 )\n",
    "manning[5] = 0.035\n",
    "manning"
   ]
  },
  {
   "cell_type": "code",
   "execution_count": 7,
   "metadata": {},
   "outputs": [
    {
     "data": {
      "text/plain": [
       "[{'point': [[-24017.545356416296, -40951.68684214638, 26.07],\n",
       "   [-24021.866931082066, -40954.20159708636, 25.59],\n",
       "   [-24026.188505747836, -40956.71635202634, 24.06],\n",
       "   [-24034.831655079375, -40961.74586190631, 21.82],\n",
       "   [-24047.796379076688, -40969.290126726264, 21.7],\n",
       "   [-24056.439528408227, -40974.31963660623, 20.96],\n",
       "   [-24073.72582707131, -40984.37865636616, 18.83],\n",
       "   [-24095.333700400162, -40996.952431066085, 18.66],\n",
       "   [-24099.655275065932, -40999.46718600607, 16.87],\n",
       "   [-24151.514171055176, -41029.64424528587, 16.46],\n",
       "   [-24155.835745720946, -41032.15900022585, 18.39],\n",
       "   [-24173.122044384025, -41042.21801998579, 19.09],\n",
       "   [-24220.6593657075, -41069.88032432561, 19.67],\n",
       "   [-24255.23196303366, -41089.99836384548, 18.62],\n",
       "   [-24259.55353769943, -41092.513118785464, 20.17],\n",
       "   [-24268.196687030973, -41097.54262866543, 21.37]],\n",
       "  'manning': [0.025]},\n",
       " {'point': [[-24268.196687030973, -41097.54262866543, 21.37],\n",
       "   [-24281.161411028283, -41105.08689348538, 21.8],\n",
       "   [-24289.804560359822, -41110.11640336535, 21.61],\n",
       "   [-24302.769284357135, -41117.6606681853, 22.69],\n",
       "   [-24307.090859022905, -41120.175423125285, 22.6],\n",
       "   [-24311.412433688674, -41122.69017806527, 22.03],\n",
       "   [-24345.985031014836, -41142.80821758514, 22.02],\n",
       "   [-24354.62818034638, -41147.83772746511, 24.12],\n",
       "   [-24358.94975501215, -41150.35248240509, 25.53]],\n",
       "  'manning': [0.04, 0.04, 0.04, 0.04, 0.04, 0.035, 0.04, 0.04]}]"
      ]
     },
     "execution_count": 7,
     "metadata": {},
     "output_type": "execute_result"
    }
   ],
   "source": [
    "j = [\n",
    "   {'point':pointznew.tolist(), 'manning':list([0.025])}\n",
    "    , {'point':pointznew2.tolist(), 'manning':manning.tolist()}\n",
    "]\n",
    "j"
   ]
  },
  {
   "cell_type": "markdown",
   "metadata": {},
   "source": [
    "## export"
   ]
  },
  {
   "cell_type": "code",
   "execution_count": 8,
   "metadata": {},
   "outputs": [
    {
     "data": {
      "text/plain": [
       "'[{\"point\": [[-24017.545356416296, -40951.68684214638, 26.07], [-24021.866931082066, -40954.20159708636, 25.59], [-24026.188505747836, -40956.71635202634, 24.06], [-24034.831655079375, -40961.74586190631, 21.82], [-24047.796379076688, -40969.290126726264, 21.7], [-24056.439528408227, -40974.31963660623, 20.96], [-24073.72582707131, -40984.37865636616, 18.83], [-24095.333700400162, -40996.952431066085, 18.66], [-24099.655275065932, -40999.46718600607, 16.87], [-24151.514171055176, -41029.64424528587, 16.46], [-24155.835745720946, -41032.15900022585, 18.39], [-24173.122044384025, -41042.21801998579, 19.09], [-24220.6593657075, -41069.88032432561, 19.67], [-24255.23196303366, -41089.99836384548, 18.62], [-24259.55353769943, -41092.513118785464, 20.17], [-24268.196687030973, -41097.54262866543, 21.37]], \"manning\": [0.025]}, {\"point\": [[-24268.196687030973, -41097.54262866543, 21.37], [-24281.161411028283, -41105.08689348538, 21.8], [-24289.804560359822, -41110.11640336535, 21.61], [-24302.769284357135, -41117.6606681853, 22.69], [-24307.090859022905, -41120.175423125285, 22.6], [-24311.412433688674, -41122.69017806527, 22.03], [-24345.985031014836, -41142.80821758514, 22.02], [-24354.62818034638, -41147.83772746511, 24.12], [-24358.94975501215, -41150.35248240509, 25.53]], \"manning\": [0.04, 0.04, 0.04, 0.04, 0.04, 0.035, 0.04, 0.04]}]'"
      ]
     },
     "execution_count": 8,
     "metadata": {},
     "output_type": "execute_result"
    }
   ],
   "source": [
    "jj = json.dumps(j)\n",
    "jj"
   ]
  },
  {
   "cell_type": "markdown",
   "metadata": {},
   "source": [
    "### add geopandas columns \"calc-input\""
   ]
  },
  {
   "cell_type": "code",
   "execution_count": 9,
   "metadata": {},
   "outputs": [
    {
     "data": {
      "text/html": [
       "<div>\n",
       "<style scoped>\n",
       "    .dataframe tbody tr th:only-of-type {\n",
       "        vertical-align: middle;\n",
       "    }\n",
       "\n",
       "    .dataframe tbody tr th {\n",
       "        vertical-align: top;\n",
       "    }\n",
       "\n",
       "    .dataframe thead th {\n",
       "        text-align: right;\n",
       "    }\n",
       "</style>\n",
       "<table border=\"1\" class=\"dataframe\">\n",
       "  <thead>\n",
       "    <tr style=\"text-align: right;\">\n",
       "      <th></th>\n",
       "      <th>name</th>\n",
       "      <th>geometry</th>\n",
       "      <th>calc-input</th>\n",
       "    </tr>\n",
       "  </thead>\n",
       "  <tbody>\n",
       "    <tr>\n",
       "      <th>0</th>\n",
       "      <td>section1</td>\n",
       "      <td>MULTIPOINT Z (-23995.937 -40939.113 22.590, -2...</td>\n",
       "      <td>[{\"point\": [[-24017.545356416296, -40951.68684...</td>\n",
       "    </tr>\n",
       "  </tbody>\n",
       "</table>\n",
       "</div>"
      ],
      "text/plain": [
       "       name                                           geometry  \\\n",
       "0  section1  MULTIPOINT Z (-23995.937 -40939.113 22.590, -2...   \n",
       "\n",
       "                                          calc-input  \n",
       "0  [{\"point\": [[-24017.545356416296, -40951.68684...  "
      ]
     },
     "execution_count": 9,
     "metadata": {},
     "output_type": "execute_result"
    }
   ],
   "source": [
    "gdf['calc-input'] = [jj]\n",
    "gdf"
   ]
  },
  {
   "cell_type": "markdown",
   "metadata": {},
   "source": [
    "### export"
   ]
  },
  {
   "cell_type": "code",
   "execution_count": 10,
   "metadata": {},
   "outputs": [],
   "source": [
    "gdf.to_file(\"calc-RiverSection.geojson\", driver='GeoJSON')"
   ]
  }
 ],
 "metadata": {
  "kernelspec": {
   "display_name": "Python 3",
   "language": "python",
   "name": "python3"
  },
  "language_info": {
   "codemirror_mode": {
    "name": "ipython",
    "version": 3
   },
   "file_extension": ".py",
   "mimetype": "text/x-python",
   "name": "python",
   "nbconvert_exporter": "python",
   "pygments_lexer": "ipython3",
   "version": "3.6.10"
  },
  "toc": {
   "base_numbering": 1,
   "nav_menu": {},
   "number_sections": true,
   "sideBar": true,
   "skip_h1_title": false,
   "title_cell": "Table of Contents",
   "title_sidebar": "Contents",
   "toc_cell": false,
   "toc_position": {},
   "toc_section_display": true,
   "toc_window_display": true
  }
 },
 "nbformat": 4,
 "nbformat_minor": 4
}
