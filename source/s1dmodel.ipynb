{
 "cells": [
  {
   "cell_type": "code",
   "execution_count": null,
   "metadata": {},
   "outputs": [],
   "source": [
    "import numpy as np\n",
    "import geoviews as gv\n",
    "import holoviews as hv\n",
    "from holoviews.streams import Selection1D\n",
    "import panel as pn\n",
    "from cartopy import crs\n",
    "import json\n",
    "\n",
    "hv.extension('bokeh',logo=False)\n",
    "gv.extension('bokeh',logo=False)\n",
    "pn.extension()"
   ]
  },
  {
   "cell_type": "code",
   "execution_count": null,
   "metadata": {},
   "outputs": [],
   "source": [
    "def plot(jsonsect):\n",
    "    \n",
    "    def from3Dto2D(pointz, porg):\n",
    "        point = pointz[:,:2]\n",
    "        d = point - porg[:2]\n",
    "        L = np.sqrt(d[:,0]**2 + d[:,1]**2)\n",
    "        Z = pointz[:,2]\n",
    "        return L, Z\n",
    "    \n",
    "    geom = jsonsect['features'][0]['geometry']\n",
    "    \n",
    "    pointz = np.array(geom['coordinates'])\n",
    "    porg = pointz[0]\n",
    "    \n",
    "    L, Z = from3Dto2D(pointz, porg)\n",
    "    \n",
    "    sect = hv.Curve((L,Z)).options(color='k',width=450,height=250)\n",
    "    \n",
    "    calc = jsonsect['features'][0]['properties']['calc-input']\n",
    "    \n",
    "    sectcal = []\n",
    "    manning = []\n",
    "    \n",
    "    for i, dcalc in enumerate(calc):\n",
    "        pcalc = dcalc['point']\n",
    "        Ld, Zd = from3Dto2D(np.array(pcalc), porg)\n",
    "#         sectcal.append( hv.Curve((Ld,Zd),label='subsection' + str(i).zfill(2) ).options(line_dash='dashed') )\n",
    "        sectcal.append( hv.Curve((Ld,Zd))) #.options(line_dash='dashed') )\n",
    "        \n",
    "        LL = np.c_[Ld, Ld].flatten()[1:-1]\n",
    "        \n",
    "        n = np.array(dcalc['manning'])\n",
    "        \n",
    "        if len(n) == 1:\n",
    "            nn = np.full_like(LL, n[0])\n",
    "        else:\n",
    "            nn = np.c_[n, n].flatten()\n",
    "            \n",
    "        manning.append( hv.Curve((LL,nn),label='sub' + str(i), vdims=['n'] ).options(color='k', line_width=3) )\n",
    "#         manning.append( hv.Curve((LL,nn),label='sub' + str(i).zfill(2), vdims=['n'] ).options(color='k', line_width=3) )\n",
    "        \n",
    "    sectcala = hv.Overlay( sectcal ).options(show_legend=False)\n",
    "    manninga = hv.Overlay( manning ).options(title='Manning\\'s roughness coefficient', width=450,height=250, show_legend=False,ylabel='manning coef').redim(n={'range':(0,None)})\n",
    "    \n",
    "    outcrs = crs.epsg( jsonsect['crs']['properties']['name'][-4:] )\n",
    "    geomap = gv.tile_sources.EsriImagery.options(width=450, height=250)\n",
    "    g = geomap *  gv.Points(pointz, crs=outcrs).options(title='Location', color='r', size=5, tools=['box_select'])\n",
    "    \n",
    "    def selectpfig(index):\n",
    "        sindex = sorted(index)\n",
    "        return hv.Points( (L[sindex], Z[sindex]),vdims=['elevation']).options(color='r', size=10, ylabel='elevation', show_legend=False)\n",
    "    \n",
    "    p = Selection1D(source=g)\n",
    "#     selectp = hv.DynamicMap(selectpfig, streams=[p]).options(title='Cross Section:Color each subsection', legend_position='right')\n",
    "    selectp = hv.DynamicMap(selectpfig, streams=[p]).options(title='Cross Section:color each subsection', show_legend=False)\n",
    "\n",
    "    return ( selectp * sect * sectcala  + g + manninga ).cols(2)"
   ]
  },
  {
   "cell_type": "code",
   "execution_count": null,
   "metadata": {},
   "outputs": [],
   "source": [
    "file_input = pn.widgets.FileInput(accept='.geojson')\n",
    "button1 = pn.widgets.Button(name='drawing', button_type='primary') \n",
    "# str_pane = pn.pane.Str(' ', style={'font-size': '40pt'})\n",
    "\n",
    "if file_input.value is not None:\n",
    "    obj = pn.Row( pn.Column(file_input,button1), plot(json.loads(file_input.value)), width_policy='max', height_policy='max')\n",
    "else:\n",
    "#     obj = pn.Row( pn.Column(file_input,button1), str_pane, width_policy='max', height_policy='max')\n",
    "    obj = pn.Row( pn.Column(file_input,button1), '', width_policy='max', height_policy='max')\n",
    "\n",
    "def update(event): \n",
    "    if file_input.value is not None:\n",
    "        obj[-1] = plot(json.loads(file_input.value)) \n",
    "        \n",
    "button1.on_click(update)"
   ]
  },
  {
   "cell_type": "code",
   "execution_count": null,
   "metadata": {},
   "outputs": [],
   "source": [
    "obj.servable(title='S1D-model')"
   ]
  }
 ],
 "metadata": {
  "kernelspec": {
   "display_name": "Python 3",
   "language": "python",
   "name": "python3"
  },
  "language_info": {
   "codemirror_mode": {
    "name": "ipython",
    "version": 3
   },
   "file_extension": ".py",
   "mimetype": "text/x-python",
   "name": "python",
   "nbconvert_exporter": "python",
   "pygments_lexer": "ipython3",
   "version": "3.6.10"
  },
  "toc": {
   "base_numbering": 1,
   "nav_menu": {},
   "number_sections": true,
   "sideBar": true,
   "skip_h1_title": false,
   "title_cell": "Table of Contents",
   "title_sidebar": "Contents",
   "toc_cell": false,
   "toc_position": {},
   "toc_section_display": true,
   "toc_window_display": false
  }
 },
 "nbformat": 4,
 "nbformat_minor": 4
}
